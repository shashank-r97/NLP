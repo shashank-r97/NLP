{
  "nbformat": 4,
  "nbformat_minor": 0,
  "metadata": {
    "colab": {
      "name": "Preprocessing_Text.ipynb",
      "provenance": [],
      "mount_file_id": "1PJo2HbAVzbRs_ICeIl6KZDN2y9J0PzF0",
      "authorship_tag": "ABX9TyORm6iLgc4qqE+uRaZfvrH5"
    },
    "kernelspec": {
      "name": "python3",
      "display_name": "Python 3"
    }
  },
  "cells": [
    {
      "cell_type": "code",
      "metadata": {
        "id": "HJ6kL_4VDc0s",
        "colab_type": "code",
        "colab": {}
      },
      "source": [
        "import pandas as pd\n",
        "import re \n",
        "from gensim.parsing.preprocessing import remove_stopwords\n",
        "import spacy\n",
        "nlp = spacy.load('en_core_web_sm', disable=['parser', 'ner'])"
      ],
      "execution_count": 0,
      "outputs": []
    },
    {
      "cell_type": "code",
      "metadata": {
        "id": "6bSCa2GfFuAu",
        "colab_type": "code",
        "colab": {}
      },
      "source": [
        "df = pd.read_csv('/content/drive/Shared drives/DSO 560 NLP Project/left_join.csv')"
      ],
      "execution_count": 0,
      "outputs": []
    },
    {
      "cell_type": "code",
      "metadata": {
        "id": "ZgWVWIaEF1Wc",
        "colab_type": "code",
        "colab": {}
      },
      "source": [
        "df = df[['product_id', 'brand', 'product_full_name', 'description', 'brand_category', 'attribute_name', 'attribute_value']]"
      ],
      "execution_count": 0,
      "outputs": []
    },
    {
      "cell_type": "code",
      "metadata": {
        "id": "HZEuy1FeF25-",
        "colab_type": "code",
        "outputId": "70cd44f0-55c7-4973-d0b0-a1750b26117c",
        "colab": {
          "base_uri": "https://localhost:8080/",
          "height": 35
        }
      },
      "source": [
        "df.shape"
      ],
      "execution_count": 4,
      "outputs": [
        {
          "output_type": "execute_result",
          "data": {
            "text/plain": [
              "(203118, 7)"
            ]
          },
          "metadata": {
            "tags": []
          },
          "execution_count": 4
        }
      ]
    },
    {
      "cell_type": "code",
      "metadata": {
        "id": "MsWr_8e1GWcf",
        "colab_type": "code",
        "colab": {}
      },
      "source": [
        "df = df.drop_duplicates()"
      ],
      "execution_count": 0,
      "outputs": []
    },
    {
      "cell_type": "code",
      "metadata": {
        "id": "yhz25HpFGaxr",
        "colab_type": "code",
        "outputId": "6d5ad8ce-56fe-4570-f8de-1863a009f158",
        "colab": {
          "base_uri": "https://localhost:8080/",
          "height": 380
        }
      },
      "source": [
        "df.head()"
      ],
      "execution_count": 6,
      "outputs": [
        {
          "output_type": "execute_result",
          "data": {
            "text/html": [
              "<div>\n",
              "<style scoped>\n",
              "    .dataframe tbody tr th:only-of-type {\n",
              "        vertical-align: middle;\n",
              "    }\n",
              "\n",
              "    .dataframe tbody tr th {\n",
              "        vertical-align: top;\n",
              "    }\n",
              "\n",
              "    .dataframe thead th {\n",
              "        text-align: right;\n",
              "    }\n",
              "</style>\n",
              "<table border=\"1\" class=\"dataframe\">\n",
              "  <thead>\n",
              "    <tr style=\"text-align: right;\">\n",
              "      <th></th>\n",
              "      <th>product_id</th>\n",
              "      <th>brand</th>\n",
              "      <th>product_full_name</th>\n",
              "      <th>description</th>\n",
              "      <th>brand_category</th>\n",
              "      <th>attribute_name</th>\n",
              "      <th>attribute_value</th>\n",
              "    </tr>\n",
              "  </thead>\n",
              "  <tbody>\n",
              "    <tr>\n",
              "      <th>0</th>\n",
              "      <td>01DPGV4YRP3Z8J85DASGZ1Y99W</td>\n",
              "      <td>Frame</td>\n",
              "      <td>Les Second - Medium--NOIR</td>\n",
              "      <td>Minimal, Modern Styling Meets Refined Luxury I...</td>\n",
              "      <td>Accessories</td>\n",
              "      <td>style</td>\n",
              "      <td>Casual</td>\n",
              "    </tr>\n",
              "    <tr>\n",
              "      <th>2</th>\n",
              "      <td>01DSE8Z2ZDAZKZ2SKCS1E3B3HK</td>\n",
              "      <td>Banana Republic</td>\n",
              "      <td>Madison 12-Hour Loafer Pump</td>\n",
              "      <td>Everything you love about our original Madison...</td>\n",
              "      <td>Unknown</td>\n",
              "      <td>shoe_width</td>\n",
              "      <td>Medium</td>\n",
              "    </tr>\n",
              "    <tr>\n",
              "      <th>4</th>\n",
              "      <td>01E2C3YN4KQ36A0REWZJ89ZN73</td>\n",
              "      <td>FREDA SALVADOR</td>\n",
              "      <td>Ace Bootie</td>\n",
              "      <td>Edgy style and expert craftsmanship combine on...</td>\n",
              "      <td>Unknown</td>\n",
              "      <td>Primary Color</td>\n",
              "      <td>Blacks</td>\n",
              "    </tr>\n",
              "    <tr>\n",
              "      <th>5</th>\n",
              "      <td>01DVCVGDJQC4J8JJ35PKZ4J169</td>\n",
              "      <td>Loewe</td>\n",
              "      <td>Hammock small textured-leather shoulder bag</td>\n",
              "      <td>Black textured-leather (Calf) Hook fastening a...</td>\n",
              "      <td>Bags / Tote Bags / Tote Bags</td>\n",
              "      <td>category</td>\n",
              "      <td>Accessory</td>\n",
              "    </tr>\n",
              "    <tr>\n",
              "      <th>7</th>\n",
              "      <td>01E223GDRKR84THXZ54GJEW60Y</td>\n",
              "      <td>Vince</td>\n",
              "      <td>Cashmere Camisole</td>\n",
              "      <td>Delicate crochet outlines a luxe tank made fro...</td>\n",
              "      <td>Unknown</td>\n",
              "      <td>fit</td>\n",
              "      <td>Semi-Fitted</td>\n",
              "    </tr>\n",
              "  </tbody>\n",
              "</table>\n",
              "</div>"
            ],
            "text/plain": [
              "                   product_id            brand  ... attribute_name attribute_value\n",
              "0  01DPGV4YRP3Z8J85DASGZ1Y99W            Frame  ...          style          Casual\n",
              "2  01DSE8Z2ZDAZKZ2SKCS1E3B3HK  Banana Republic  ...     shoe_width          Medium\n",
              "4  01E2C3YN4KQ36A0REWZJ89ZN73   FREDA SALVADOR  ...  Primary Color          Blacks\n",
              "5  01DVCVGDJQC4J8JJ35PKZ4J169            Loewe  ...       category       Accessory\n",
              "7  01E223GDRKR84THXZ54GJEW60Y            Vince  ...            fit     Semi-Fitted\n",
              "\n",
              "[5 rows x 7 columns]"
            ]
          },
          "metadata": {
            "tags": []
          },
          "execution_count": 6
        }
      ]
    },
    {
      "cell_type": "code",
      "metadata": {
        "id": "GFBEaZCBWZkT",
        "colab_type": "code",
        "colab": {
          "base_uri": "https://localhost:8080/",
          "height": 35
        },
        "outputId": "e7bed3a7-2f3e-4815-afd0-12de15aef48c"
      },
      "source": [
        "df.shape"
      ],
      "execution_count": 7,
      "outputs": [
        {
          "output_type": "execute_result",
          "data": {
            "text/plain": [
              "(134916, 7)"
            ]
          },
          "metadata": {
            "tags": []
          },
          "execution_count": 7
        }
      ]
    },
    {
      "cell_type": "code",
      "metadata": {
        "id": "tZHZuYtNU8vz",
        "colab_type": "code",
        "colab": {}
      },
      "source": [
        "def clean_text(x):\n",
        "    try:\n",
        "        x = re.sub(r\"[^A-Za-z0-9(),!?\\'\\`]\", \" \", x)\n",
        "        x = re.sub(r\"\\'s\", \" \\'s\", x)\n",
        "        x = re.sub(r\"\\'ve\", \" \\'ve\", x)\n",
        "        x = re.sub(r\"n\\'t\", \" n\\'t\", x)\n",
        "        x = re.sub(r\"\\'re\", \" \\'re\", x)\n",
        "        x = re.sub(r\"\\'d\", \" \\'d\", x)\n",
        "        x = re.sub(r\"\\'ll\", \" \\'ll\", x)\n",
        "        x = re.sub(r\",\", \" , \", x)\n",
        "        x = re.sub(r\"!\", \" ! \", x)\n",
        "        x = re.sub(r\"\\(\", \"\", x)\n",
        "        x = re.sub(r\"\\)\", \"\", x)\n",
        "        x = re.sub(r\"\\?\", \"\", x)\n",
        "        x = re.sub(r\"/\", \"\", x)\n",
        "        x = re.sub(r\"\\s{2,}\", \" \", x)\n",
        "        return x.lower()\n",
        "    except:\n",
        "        return ''"
      ],
      "execution_count": 0,
      "outputs": []
    },
    {
      "cell_type": "code",
      "metadata": {
        "id": "rWU3FZNIbufE",
        "colab_type": "code",
        "colab": {}
      },
      "source": [
        "def lemmatizer(x):\n",
        "    return ' '.join([token.lemma_ for token in nlp(x)])"
      ],
      "execution_count": 0,
      "outputs": []
    },
    {
      "cell_type": "code",
      "metadata": {
        "id": "OGmUgkR0VMed",
        "colab_type": "code",
        "colab": {
          "base_uri": "https://localhost:8080/",
          "height": 162
        },
        "outputId": "a0817f7e-9c21-4c42-e6ff-a9c037cb8043"
      },
      "source": [
        "%%time\n",
        "for key in df.columns[1:]:\n",
        "    print(key)\n",
        "    df[key] = df[key].apply(clean_text)\n",
        "    df[key] = df[key].apply(remove_stopwords)\n",
        "    df[key] = df[key].apply(lemmatizer)"
      ],
      "execution_count": 10,
      "outputs": [
        {
          "output_type": "stream",
          "text": [
            "brand\n",
            "product_full_name\n",
            "description\n",
            "brand_category\n",
            "attribute_name\n",
            "attribute_value\n",
            "CPU times: user 26min 14s, sys: 1.3 s, total: 26min 15s\n",
            "Wall time: 26min 17s\n"
          ],
          "name": "stdout"
        }
      ]
    },
    {
      "cell_type": "code",
      "metadata": {
        "id": "ZnEX8nq8Vdhr",
        "colab_type": "code",
        "colab": {
          "base_uri": "https://localhost:8080/",
          "height": 380
        },
        "outputId": "b0cd81a9-b6dc-4b30-db6c-e25dbbb075e9"
      },
      "source": [
        "df.head()"
      ],
      "execution_count": 11,
      "outputs": [
        {
          "output_type": "execute_result",
          "data": {
            "text/html": [
              "<div>\n",
              "<style scoped>\n",
              "    .dataframe tbody tr th:only-of-type {\n",
              "        vertical-align: middle;\n",
              "    }\n",
              "\n",
              "    .dataframe tbody tr th {\n",
              "        vertical-align: top;\n",
              "    }\n",
              "\n",
              "    .dataframe thead th {\n",
              "        text-align: right;\n",
              "    }\n",
              "</style>\n",
              "<table border=\"1\" class=\"dataframe\">\n",
              "  <thead>\n",
              "    <tr style=\"text-align: right;\">\n",
              "      <th></th>\n",
              "      <th>product_id</th>\n",
              "      <th>brand</th>\n",
              "      <th>product_full_name</th>\n",
              "      <th>description</th>\n",
              "      <th>brand_category</th>\n",
              "      <th>attribute_name</th>\n",
              "      <th>attribute_value</th>\n",
              "    </tr>\n",
              "  </thead>\n",
              "  <tbody>\n",
              "    <tr>\n",
              "      <th>0</th>\n",
              "      <td>01DPGV4YRP3Z8J85DASGZ1Y99W</td>\n",
              "      <td>frame</td>\n",
              "      <td>les second medium noir</td>\n",
              "      <td>minimal , modern styling meet refined luxury l...</td>\n",
              "      <td>accessory</td>\n",
              "      <td>style</td>\n",
              "      <td>casual</td>\n",
              "    </tr>\n",
              "    <tr>\n",
              "      <th>2</th>\n",
              "      <td>01DSE8Z2ZDAZKZ2SKCS1E3B3HK</td>\n",
              "      <td>banana republic</td>\n",
              "      <td>madison 12 hour loafer pump</td>\n",
              "      <td>love original madison , modern loafer silhouet...</td>\n",
              "      <td>unknown</td>\n",
              "      <td>shoe width</td>\n",
              "      <td>medium</td>\n",
              "    </tr>\n",
              "    <tr>\n",
              "      <th>4</th>\n",
              "      <td>01E2C3YN4KQ36A0REWZJ89ZN73</td>\n",
              "      <td>freda salvador</td>\n",
              "      <td>ace bootie</td>\n",
              "      <td>edgy style expert craftsmanship combine block ...</td>\n",
              "      <td>unknown</td>\n",
              "      <td>primary color</td>\n",
              "      <td>black</td>\n",
              "    </tr>\n",
              "    <tr>\n",
              "      <th>5</th>\n",
              "      <td>01DVCVGDJQC4J8JJ35PKZ4J169</td>\n",
              "      <td>loewe</td>\n",
              "      <td>hammock small textured leather shoulder bag</td>\n",
              "      <td>black textured leather calf hook fasten open w...</td>\n",
              "      <td>bag tote bag tote bag</td>\n",
              "      <td>category</td>\n",
              "      <td>accessory</td>\n",
              "    </tr>\n",
              "    <tr>\n",
              "      <th>7</th>\n",
              "      <td>01E223GDRKR84THXZ54GJEW60Y</td>\n",
              "      <td>vince</td>\n",
              "      <td>cashmere camisole</td>\n",
              "      <td>delicate crochet outlines luxe tank pure cashmere</td>\n",
              "      <td>unknown</td>\n",
              "      <td>fit</td>\n",
              "      <td>semi fit</td>\n",
              "    </tr>\n",
              "  </tbody>\n",
              "</table>\n",
              "</div>"
            ],
            "text/plain": [
              "                   product_id            brand  ... attribute_name attribute_value\n",
              "0  01DPGV4YRP3Z8J85DASGZ1Y99W            frame  ...          style          casual\n",
              "2  01DSE8Z2ZDAZKZ2SKCS1E3B3HK  banana republic  ...     shoe width          medium\n",
              "4  01E2C3YN4KQ36A0REWZJ89ZN73   freda salvador  ...  primary color           black\n",
              "5  01DVCVGDJQC4J8JJ35PKZ4J169            loewe  ...       category       accessory\n",
              "7  01E223GDRKR84THXZ54GJEW60Y            vince  ...            fit        semi fit\n",
              "\n",
              "[5 rows x 7 columns]"
            ]
          },
          "metadata": {
            "tags": []
          },
          "execution_count": 11
        }
      ]
    },
    {
      "cell_type": "code",
      "metadata": {
        "id": "McIo8XaCUreC",
        "colab_type": "code",
        "colab": {
          "base_uri": "https://localhost:8080/",
          "height": 35
        },
        "outputId": "3fc614f3-4e4e-4c7a-f4d5-7b32d38e187e"
      },
      "source": [
        "train = df[df['attribute_name'] != '']\n",
        "train.shape"
      ],
      "execution_count": 12,
      "outputs": [
        {
          "output_type": "execute_result",
          "data": {
            "text/plain": [
              "(90814, 7)"
            ]
          },
          "metadata": {
            "tags": []
          },
          "execution_count": 12
        }
      ]
    },
    {
      "cell_type": "code",
      "metadata": {
        "id": "3GqBWFkzGnEG",
        "colab_type": "code",
        "colab": {}
      },
      "source": [
        "train.to_csv('/content/drive/My Drive/NLP/train.csv', index = False)"
      ],
      "execution_count": 0,
      "outputs": []
    },
    {
      "cell_type": "code",
      "metadata": {
        "id": "JbvXmhexGn8O",
        "colab_type": "code",
        "outputId": "bb6090c3-26ca-4782-90bf-5ef5918b9d48",
        "colab": {
          "base_uri": "https://localhost:8080/",
          "height": 35
        }
      },
      "source": [
        "test = df[df['attribute_name'] == '']\n",
        "test.shape"
      ],
      "execution_count": 14,
      "outputs": [
        {
          "output_type": "execute_result",
          "data": {
            "text/plain": [
              "(44102, 7)"
            ]
          },
          "metadata": {
            "tags": []
          },
          "execution_count": 14
        }
      ]
    },
    {
      "cell_type": "code",
      "metadata": {
        "id": "ckkeNjukGxHh",
        "colab_type": "code",
        "colab": {}
      },
      "source": [
        "test.to_csv('/content/drive/My Drive/NLP/test.csv', index = False)"
      ],
      "execution_count": 0,
      "outputs": []
    },
    {
      "cell_type": "code",
      "metadata": {
        "id": "P1IvLX7XcF10",
        "colab_type": "code",
        "colab": {
          "base_uri": "https://localhost:8080/",
          "height": 253
        },
        "outputId": "fc59a70a-e013-4345-84bd-2bfed8e28ffc"
      },
      "source": [
        "train[train['attribute_name'] == 'style']['attribute_value'].value_counts()"
      ],
      "execution_count": 16,
      "outputs": [
        {
          "output_type": "execute_result",
          "data": {
            "text/plain": [
              "casual             3067\n",
              "modern             2372\n",
              "classic            1923\n",
              "businesscasual     1132\n",
              "androgynous        1080\n",
              "edgy                919\n",
              "romantic            765\n",
              "boho                587\n",
              "glam                582\n",
              "athleisure          401\n",
              "business casual     360\n",
              "retro               295\n",
              "Name: attribute_value, dtype: int64"
            ]
          },
          "metadata": {
            "tags": []
          },
          "execution_count": 16
        }
      ]
    }
  ]
}
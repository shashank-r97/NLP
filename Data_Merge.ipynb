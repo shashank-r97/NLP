{
  "nbformat": 4,
  "nbformat_minor": 0,
  "metadata": {
    "colab": {
      "name": "Data Merge.ipynb",
      "provenance": [],
      "mount_file_id": "1FEo2cie6IlTh9p8MIbhyN3oLA8qGaB2B",
      "authorship_tag": "ABX9TyPZMaDqOsHkpeRgfWPtOXY4"
    },
    "kernelspec": {
      "name": "python3",
      "display_name": "Python 3"
    }
  },
  "cells": [
    {
      "cell_type": "code",
      "metadata": {
        "id": "_N7Cg-2ke6lc",
        "colab_type": "code",
        "colab": {}
      },
      "source": [
        "import pandas as pd"
      ],
      "execution_count": 0,
      "outputs": []
    },
    {
      "cell_type": "code",
      "metadata": {
        "id": "SRnXsjx5fFJ-",
        "colab_type": "code",
        "colab": {
          "base_uri": "https://localhost:8080/",
          "height": 72
        },
        "outputId": "6f06904a-ad15-49d6-84a5-6e2a2c47c437"
      },
      "source": [
        "%%time\n",
        "df = pd.read_csv('/content/drive/My Drive/DSO 560/Full+data.csv')[['product_id', 'brand', 'name', 'description', 'brand_category', 'details', 'labels']]"
      ],
      "execution_count": 3,
      "outputs": [
        {
          "output_type": "stream",
          "text": [
            "CPU times: user 977 ms, sys: 241 ms, total: 1.22 s\n",
            "Wall time: 6.92 s\n"
          ],
          "name": "stdout"
        },
        {
          "output_type": "stream",
          "text": [
            "<string>:2: DtypeWarning: Columns (2) have mixed types.Specify dtype option on import or set low_memory=False.\n"
          ],
          "name": "stderr"
        }
      ]
    },
    {
      "cell_type": "code",
      "metadata": {
        "id": "vk2VIO9SfN7_",
        "colab_type": "code",
        "colab": {
          "base_uri": "https://localhost:8080/",
          "height": 397
        },
        "outputId": "a913e7b2-6ad4-4ef5-fe59-bc5da37e5c74"
      },
      "source": [
        "df.head()"
      ],
      "execution_count": 4,
      "outputs": [
        {
          "output_type": "execute_result",
          "data": {
            "text/html": [
              "<div>\n",
              "<style scoped>\n",
              "    .dataframe tbody tr th:only-of-type {\n",
              "        vertical-align: middle;\n",
              "    }\n",
              "\n",
              "    .dataframe tbody tr th {\n",
              "        vertical-align: top;\n",
              "    }\n",
              "\n",
              "    .dataframe thead th {\n",
              "        text-align: right;\n",
              "    }\n",
              "</style>\n",
              "<table border=\"1\" class=\"dataframe\">\n",
              "  <thead>\n",
              "    <tr style=\"text-align: right;\">\n",
              "      <th></th>\n",
              "      <th>product_id</th>\n",
              "      <th>brand</th>\n",
              "      <th>name</th>\n",
              "      <th>description</th>\n",
              "      <th>brand_category</th>\n",
              "      <th>details</th>\n",
              "      <th>labels</th>\n",
              "    </tr>\n",
              "  </thead>\n",
              "  <tbody>\n",
              "    <tr>\n",
              "      <th>0</th>\n",
              "      <td>01DSRPSZTDW2PGK1YWYXJGKZZ0</td>\n",
              "      <td>FILA</td>\n",
              "      <td>Original Fitness Sneakers</td>\n",
              "      <td>Vintage Fitness leather sneakers with logo pri...</td>\n",
              "      <td>TheMensStore/Shoes/Sneakers/LowTop</td>\n",
              "      <td>Leather/synthetic upper\\nLace-up closure\\nText...</td>\n",
              "      <td>{\"Needs Attributes\"}</td>\n",
              "    </tr>\n",
              "    <tr>\n",
              "      <th>1</th>\n",
              "      <td>01DSQXJBX0R7DCW7KTAC1SW547</td>\n",
              "      <td>CHANEL</td>\n",
              "      <td>HAT</td>\n",
              "      <td>NaN</td>\n",
              "      <td>Unknown</td>\n",
              "      <td>WOOL TWEED &amp; FELT</td>\n",
              "      <td>{\"Needs Review\"}</td>\n",
              "    </tr>\n",
              "    <tr>\n",
              "      <th>2</th>\n",
              "      <td>01DPGV8TGRAB993PF7Z3YWG2VR</td>\n",
              "      <td>Frame</td>\n",
              "      <td>Petit Oval Buckle Belt</td>\n",
              "      <td>A Timeless Leather Belt Crafted From Smooth Co...</td>\n",
              "      <td>Accessories</td>\n",
              "      <td>NaN</td>\n",
              "      <td>{}</td>\n",
              "    </tr>\n",
              "    <tr>\n",
              "      <th>3</th>\n",
              "      <td>01DSR8G3F7DBRTMP8THF97XSQ2</td>\n",
              "      <td>Lilly Pulitzer Kids</td>\n",
              "      <td>Little Gir's &amp; Girl's Ariana One-Piece UPF 50+...</td>\n",
              "      <td>Pretty ruffle sleeves and trim elevate essenti...</td>\n",
              "      <td>JustKids/Girls214/Girls/SwimwearCoverups,JustK...</td>\n",
              "      <td>Scoopneck\\nAdjustable straps\\nFlutter sleeves\\...</td>\n",
              "      <td>{\"Needs Review\"}</td>\n",
              "    </tr>\n",
              "    <tr>\n",
              "      <th>4</th>\n",
              "      <td>01DSR8G5GP519DEDCSKBMWQVK5</td>\n",
              "      <td>Kissy Kissy</td>\n",
              "      <td>Baby Girl's Endearing Elephants Pima Cotton Co...</td>\n",
              "      <td>Versatile convertible gown with elephant applique</td>\n",
              "      <td>JustKids/Baby024months/InfantGirls/FootiesRompers</td>\n",
              "      <td>V-neckline\\nLong sleeves\\nFront snap closure\\n...</td>\n",
              "      <td>{\"Needs Review\"}</td>\n",
              "    </tr>\n",
              "  </tbody>\n",
              "</table>\n",
              "</div>"
            ],
            "text/plain": [
              "                   product_id  ...                labels\n",
              "0  01DSRPSZTDW2PGK1YWYXJGKZZ0  ...  {\"Needs Attributes\"}\n",
              "1  01DSQXJBX0R7DCW7KTAC1SW547  ...      {\"Needs Review\"}\n",
              "2  01DPGV8TGRAB993PF7Z3YWG2VR  ...                    {}\n",
              "3  01DSR8G3F7DBRTMP8THF97XSQ2  ...      {\"Needs Review\"}\n",
              "4  01DSR8G5GP519DEDCSKBMWQVK5  ...      {\"Needs Review\"}\n",
              "\n",
              "[5 rows x 7 columns]"
            ]
          },
          "metadata": {
            "tags": []
          },
          "execution_count": 4
        }
      ]
    },
    {
      "cell_type": "code",
      "metadata": {
        "id": "E2ZMKBmlfPHO",
        "colab_type": "code",
        "colab": {
          "base_uri": "https://localhost:8080/",
          "height": 53
        },
        "outputId": "2ecb1459-9348-4461-e440-b4e1aff3bb68"
      },
      "source": [
        "%%time\n",
        "tags = pd.read_excel('/content/drive/My Drive/DSO 560/USC+Product+Attribute+Data+03302020.xlsx')"
      ],
      "execution_count": 5,
      "outputs": [
        {
          "output_type": "stream",
          "text": [
            "CPU times: user 826 ms, sys: 7.96 ms, total: 834 ms\n",
            "Wall time: 3.19 s\n"
          ],
          "name": "stdout"
        }
      ]
    },
    {
      "cell_type": "code",
      "metadata": {
        "id": "kfNVuSwOfXFZ",
        "colab_type": "code",
        "colab": {
          "base_uri": "https://localhost:8080/",
          "height": 206
        },
        "outputId": "d604fc96-a3e1-4b26-fd4c-f4567a439142"
      },
      "source": [
        "tags.head()"
      ],
      "execution_count": 6,
      "outputs": [
        {
          "output_type": "execute_result",
          "data": {
            "text/html": [
              "<div>\n",
              "<style scoped>\n",
              "    .dataframe tbody tr th:only-of-type {\n",
              "        vertical-align: middle;\n",
              "    }\n",
              "\n",
              "    .dataframe tbody tr th {\n",
              "        vertical-align: top;\n",
              "    }\n",
              "\n",
              "    .dataframe thead th {\n",
              "        text-align: right;\n",
              "    }\n",
              "</style>\n",
              "<table border=\"1\" class=\"dataframe\">\n",
              "  <thead>\n",
              "    <tr style=\"text-align: right;\">\n",
              "      <th></th>\n",
              "      <th>product_id</th>\n",
              "      <th>product_color_id</th>\n",
              "      <th>attribute_name</th>\n",
              "      <th>attribute_value</th>\n",
              "    </tr>\n",
              "  </thead>\n",
              "  <tbody>\n",
              "    <tr>\n",
              "      <th>0</th>\n",
              "      <td>01DVBTBPHR8WJTCVEN5AJRHF47</td>\n",
              "      <td>01DVBTBPJ41VVT00JJCG8TTZ2W</td>\n",
              "      <td>gender</td>\n",
              "      <td>Women</td>\n",
              "    </tr>\n",
              "    <tr>\n",
              "      <th>1</th>\n",
              "      <td>01DVA7QRXM928ZM0WWR7HFNTC1</td>\n",
              "      <td>01DVA7QRXXR9F0TWVE1HMC5ZQ3</td>\n",
              "      <td>Primary Color</td>\n",
              "      <td>Blacks</td>\n",
              "    </tr>\n",
              "    <tr>\n",
              "      <th>2</th>\n",
              "      <td>01DPGV4YRP3Z8J85DASGZ1Y99W</td>\n",
              "      <td>01DPGVGBK6YGNYGNF2S6FSH02T</td>\n",
              "      <td>style</td>\n",
              "      <td>Casual</td>\n",
              "    </tr>\n",
              "    <tr>\n",
              "      <th>3</th>\n",
              "      <td>01E1JM43NQ3H17PB22EV3074NX</td>\n",
              "      <td>01E1JM5WFWWCCCH3JTTTCYQCEQ</td>\n",
              "      <td>style</td>\n",
              "      <td>Modern</td>\n",
              "    </tr>\n",
              "    <tr>\n",
              "      <th>4</th>\n",
              "      <td>01DSE8Z2ZDAZKZ2SKCS1E3B3HK</td>\n",
              "      <td>01DSE8ZG8Y3FR8KWE2TY1QDWBF</td>\n",
              "      <td>shoe_width</td>\n",
              "      <td>Medium</td>\n",
              "    </tr>\n",
              "  </tbody>\n",
              "</table>\n",
              "</div>"
            ],
            "text/plain": [
              "                   product_id  ... attribute_value\n",
              "0  01DVBTBPHR8WJTCVEN5AJRHF47  ...           Women\n",
              "1  01DVA7QRXM928ZM0WWR7HFNTC1  ...          Blacks\n",
              "2  01DPGV4YRP3Z8J85DASGZ1Y99W  ...          Casual\n",
              "3  01E1JM43NQ3H17PB22EV3074NX  ...          Modern\n",
              "4  01DSE8Z2ZDAZKZ2SKCS1E3B3HK  ...          Medium\n",
              "\n",
              "[5 rows x 4 columns]"
            ]
          },
          "metadata": {
            "tags": []
          },
          "execution_count": 6
        }
      ]
    },
    {
      "cell_type": "code",
      "metadata": {
        "id": "dm7_RIGZfYbX",
        "colab_type": "code",
        "colab": {
          "base_uri": "https://localhost:8080/",
          "height": 206
        },
        "outputId": "06f2a49d-01ff-4a73-8dee-3e091c6f1d8e"
      },
      "source": [
        "tags = df[['product_id']].merge(tags, on = 'product_id', how = 'left')\n",
        "tags.head()"
      ],
      "execution_count": 7,
      "outputs": [
        {
          "output_type": "execute_result",
          "data": {
            "text/html": [
              "<div>\n",
              "<style scoped>\n",
              "    .dataframe tbody tr th:only-of-type {\n",
              "        vertical-align: middle;\n",
              "    }\n",
              "\n",
              "    .dataframe tbody tr th {\n",
              "        vertical-align: top;\n",
              "    }\n",
              "\n",
              "    .dataframe thead th {\n",
              "        text-align: right;\n",
              "    }\n",
              "</style>\n",
              "<table border=\"1\" class=\"dataframe\">\n",
              "  <thead>\n",
              "    <tr style=\"text-align: right;\">\n",
              "      <th></th>\n",
              "      <th>product_id</th>\n",
              "      <th>product_color_id</th>\n",
              "      <th>attribute_name</th>\n",
              "      <th>attribute_value</th>\n",
              "    </tr>\n",
              "  </thead>\n",
              "  <tbody>\n",
              "    <tr>\n",
              "      <th>0</th>\n",
              "      <td>01DSRPSZTDW2PGK1YWYXJGKZZ0</td>\n",
              "      <td>NaN</td>\n",
              "      <td>NaN</td>\n",
              "      <td>NaN</td>\n",
              "    </tr>\n",
              "    <tr>\n",
              "      <th>1</th>\n",
              "      <td>01DSQXJBX0R7DCW7KTAC1SW547</td>\n",
              "      <td>NaN</td>\n",
              "      <td>NaN</td>\n",
              "      <td>NaN</td>\n",
              "    </tr>\n",
              "    <tr>\n",
              "      <th>2</th>\n",
              "      <td>01DPGV8TGRAB993PF7Z3YWG2VR</td>\n",
              "      <td>NaN</td>\n",
              "      <td>NaN</td>\n",
              "      <td>NaN</td>\n",
              "    </tr>\n",
              "    <tr>\n",
              "      <th>3</th>\n",
              "      <td>01DSR8G3F7DBRTMP8THF97XSQ2</td>\n",
              "      <td>NaN</td>\n",
              "      <td>NaN</td>\n",
              "      <td>NaN</td>\n",
              "    </tr>\n",
              "    <tr>\n",
              "      <th>4</th>\n",
              "      <td>01DSR8G5GP519DEDCSKBMWQVK5</td>\n",
              "      <td>NaN</td>\n",
              "      <td>NaN</td>\n",
              "      <td>NaN</td>\n",
              "    </tr>\n",
              "  </tbody>\n",
              "</table>\n",
              "</div>"
            ],
            "text/plain": [
              "                   product_id product_color_id attribute_name attribute_value\n",
              "0  01DSRPSZTDW2PGK1YWYXJGKZZ0              NaN            NaN             NaN\n",
              "1  01DSQXJBX0R7DCW7KTAC1SW547              NaN            NaN             NaN\n",
              "2  01DPGV8TGRAB993PF7Z3YWG2VR              NaN            NaN             NaN\n",
              "3  01DSR8G3F7DBRTMP8THF97XSQ2              NaN            NaN             NaN\n",
              "4  01DSR8G5GP519DEDCSKBMWQVK5              NaN            NaN             NaN"
            ]
          },
          "metadata": {
            "tags": []
          },
          "execution_count": 7
        }
      ]
    },
    {
      "cell_type": "code",
      "metadata": {
        "id": "7D72smhWfb39",
        "colab_type": "code",
        "colab": {}
      },
      "source": [
        "df['attribute_name'] = tags['attribute_name']\n",
        "df['attribute_value'] = tags['attribute_value']"
      ],
      "execution_count": 0,
      "outputs": []
    },
    {
      "cell_type": "code",
      "metadata": {
        "id": "8BMeqIvJfe6s",
        "colab_type": "code",
        "colab": {
          "base_uri": "https://localhost:8080/",
          "height": 53
        },
        "outputId": "e35d036b-379a-4c3f-88d0-3b224bcf2e64"
      },
      "source": [
        "%%time\n",
        "add_tags = pd.read_csv('/content/drive/My Drive/DSO 560/usc_additional_tags.csv')"
      ],
      "execution_count": 10,
      "outputs": [
        {
          "output_type": "stream",
          "text": [
            "CPU times: user 92.7 ms, sys: 3.77 ms, total: 96.5 ms\n",
            "Wall time: 662 ms\n"
          ],
          "name": "stdout"
        }
      ]
    },
    {
      "cell_type": "code",
      "metadata": {
        "id": "CmrtaeoOgWQZ",
        "colab_type": "code",
        "colab": {
          "base_uri": "https://localhost:8080/",
          "height": 206
        },
        "outputId": "238e17fe-a801-4d4a-b8ca-18baccd6d64f"
      },
      "source": [
        "add_tags = df[['product_id']].merge(add_tags, on = 'product_id', how = 'left')\n",
        "add_tags.head()"
      ],
      "execution_count": 11,
      "outputs": [
        {
          "output_type": "execute_result",
          "data": {
            "text/html": [
              "<div>\n",
              "<style scoped>\n",
              "    .dataframe tbody tr th:only-of-type {\n",
              "        vertical-align: middle;\n",
              "    }\n",
              "\n",
              "    .dataframe tbody tr th {\n",
              "        vertical-align: top;\n",
              "    }\n",
              "\n",
              "    .dataframe thead th {\n",
              "        text-align: right;\n",
              "    }\n",
              "</style>\n",
              "<table border=\"1\" class=\"dataframe\">\n",
              "  <thead>\n",
              "    <tr style=\"text-align: right;\">\n",
              "      <th></th>\n",
              "      <th>product_id</th>\n",
              "      <th>product_color_id</th>\n",
              "      <th>attribute_name</th>\n",
              "      <th>attribute_value</th>\n",
              "    </tr>\n",
              "  </thead>\n",
              "  <tbody>\n",
              "    <tr>\n",
              "      <th>0</th>\n",
              "      <td>01DSRPSZTDW2PGK1YWYXJGKZZ0</td>\n",
              "      <td>NaN</td>\n",
              "      <td>NaN</td>\n",
              "      <td>NaN</td>\n",
              "    </tr>\n",
              "    <tr>\n",
              "      <th>1</th>\n",
              "      <td>01DSQXJBX0R7DCW7KTAC1SW547</td>\n",
              "      <td>NaN</td>\n",
              "      <td>NaN</td>\n",
              "      <td>NaN</td>\n",
              "    </tr>\n",
              "    <tr>\n",
              "      <th>2</th>\n",
              "      <td>01DPGV8TGRAB993PF7Z3YWG2VR</td>\n",
              "      <td>NaN</td>\n",
              "      <td>NaN</td>\n",
              "      <td>NaN</td>\n",
              "    </tr>\n",
              "    <tr>\n",
              "      <th>3</th>\n",
              "      <td>01DSR8G3F7DBRTMP8THF97XSQ2</td>\n",
              "      <td>NaN</td>\n",
              "      <td>NaN</td>\n",
              "      <td>NaN</td>\n",
              "    </tr>\n",
              "    <tr>\n",
              "      <th>4</th>\n",
              "      <td>01DSR8G5GP519DEDCSKBMWQVK5</td>\n",
              "      <td>NaN</td>\n",
              "      <td>NaN</td>\n",
              "      <td>NaN</td>\n",
              "    </tr>\n",
              "  </tbody>\n",
              "</table>\n",
              "</div>"
            ],
            "text/plain": [
              "                   product_id product_color_id attribute_name attribute_value\n",
              "0  01DSRPSZTDW2PGK1YWYXJGKZZ0              NaN            NaN             NaN\n",
              "1  01DSQXJBX0R7DCW7KTAC1SW547              NaN            NaN             NaN\n",
              "2  01DPGV8TGRAB993PF7Z3YWG2VR              NaN            NaN             NaN\n",
              "3  01DSR8G3F7DBRTMP8THF97XSQ2              NaN            NaN             NaN\n",
              "4  01DSR8G5GP519DEDCSKBMWQVK5              NaN            NaN             NaN"
            ]
          },
          "metadata": {
            "tags": []
          },
          "execution_count": 11
        }
      ]
    },
    {
      "cell_type": "code",
      "metadata": {
        "id": "Nd4ZprNOgc5t",
        "colab_type": "code",
        "colab": {}
      },
      "source": [
        "df['attribute_name'] = df['attribute_name'].fillna(add_tags['attribute_name'])\n",
        "df['attribute_value'] = df['attribute_value'].fillna(add_tags['attribute_value'])"
      ],
      "execution_count": 0,
      "outputs": []
    },
    {
      "cell_type": "code",
      "metadata": {
        "id": "IKeqEfEhgf39",
        "colab_type": "code",
        "colab": {
          "base_uri": "https://localhost:8080/",
          "height": 556
        },
        "outputId": "a0951a00-78bd-4c8d-82c8-e12acbc1bba9"
      },
      "source": [
        "df.head()"
      ],
      "execution_count": 13,
      "outputs": [
        {
          "output_type": "execute_result",
          "data": {
            "text/html": [
              "<div>\n",
              "<style scoped>\n",
              "    .dataframe tbody tr th:only-of-type {\n",
              "        vertical-align: middle;\n",
              "    }\n",
              "\n",
              "    .dataframe tbody tr th {\n",
              "        vertical-align: top;\n",
              "    }\n",
              "\n",
              "    .dataframe thead th {\n",
              "        text-align: right;\n",
              "    }\n",
              "</style>\n",
              "<table border=\"1\" class=\"dataframe\">\n",
              "  <thead>\n",
              "    <tr style=\"text-align: right;\">\n",
              "      <th></th>\n",
              "      <th>product_id</th>\n",
              "      <th>brand</th>\n",
              "      <th>name</th>\n",
              "      <th>description</th>\n",
              "      <th>brand_category</th>\n",
              "      <th>details</th>\n",
              "      <th>labels</th>\n",
              "      <th>attribute_name</th>\n",
              "      <th>attribute_value</th>\n",
              "    </tr>\n",
              "  </thead>\n",
              "  <tbody>\n",
              "    <tr>\n",
              "      <th>0</th>\n",
              "      <td>01DSRPSZTDW2PGK1YWYXJGKZZ0</td>\n",
              "      <td>FILA</td>\n",
              "      <td>Original Fitness Sneakers</td>\n",
              "      <td>Vintage Fitness leather sneakers with logo pri...</td>\n",
              "      <td>TheMensStore/Shoes/Sneakers/LowTop</td>\n",
              "      <td>Leather/synthetic upper\\nLace-up closure\\nText...</td>\n",
              "      <td>{\"Needs Attributes\"}</td>\n",
              "      <td>NaN</td>\n",
              "      <td>NaN</td>\n",
              "    </tr>\n",
              "    <tr>\n",
              "      <th>1</th>\n",
              "      <td>01DSQXJBX0R7DCW7KTAC1SW547</td>\n",
              "      <td>CHANEL</td>\n",
              "      <td>HAT</td>\n",
              "      <td>NaN</td>\n",
              "      <td>Unknown</td>\n",
              "      <td>WOOL TWEED &amp; FELT</td>\n",
              "      <td>{\"Needs Review\"}</td>\n",
              "      <td>NaN</td>\n",
              "      <td>NaN</td>\n",
              "    </tr>\n",
              "    <tr>\n",
              "      <th>2</th>\n",
              "      <td>01DPGV8TGRAB993PF7Z3YWG2VR</td>\n",
              "      <td>Frame</td>\n",
              "      <td>Petit Oval Buckle Belt</td>\n",
              "      <td>A Timeless Leather Belt Crafted From Smooth Co...</td>\n",
              "      <td>Accessories</td>\n",
              "      <td>NaN</td>\n",
              "      <td>{}</td>\n",
              "      <td>NaN</td>\n",
              "      <td>NaN</td>\n",
              "    </tr>\n",
              "    <tr>\n",
              "      <th>3</th>\n",
              "      <td>01DSR8G3F7DBRTMP8THF97XSQ2</td>\n",
              "      <td>Lilly Pulitzer Kids</td>\n",
              "      <td>Little Gir's &amp; Girl's Ariana One-Piece UPF 50+...</td>\n",
              "      <td>Pretty ruffle sleeves and trim elevate essenti...</td>\n",
              "      <td>JustKids/Girls214/Girls/SwimwearCoverups,JustK...</td>\n",
              "      <td>Scoopneck\\nAdjustable straps\\nFlutter sleeves\\...</td>\n",
              "      <td>{\"Needs Review\"}</td>\n",
              "      <td>NaN</td>\n",
              "      <td>NaN</td>\n",
              "    </tr>\n",
              "    <tr>\n",
              "      <th>4</th>\n",
              "      <td>01DSR8G5GP519DEDCSKBMWQVK5</td>\n",
              "      <td>Kissy Kissy</td>\n",
              "      <td>Baby Girl's Endearing Elephants Pima Cotton Co...</td>\n",
              "      <td>Versatile convertible gown with elephant applique</td>\n",
              "      <td>JustKids/Baby024months/InfantGirls/FootiesRompers</td>\n",
              "      <td>V-neckline\\nLong sleeves\\nFront snap closure\\n...</td>\n",
              "      <td>{\"Needs Review\"}</td>\n",
              "      <td>NaN</td>\n",
              "      <td>NaN</td>\n",
              "    </tr>\n",
              "  </tbody>\n",
              "</table>\n",
              "</div>"
            ],
            "text/plain": [
              "                   product_id  ... attribute_value\n",
              "0  01DSRPSZTDW2PGK1YWYXJGKZZ0  ...             NaN\n",
              "1  01DSQXJBX0R7DCW7KTAC1SW547  ...             NaN\n",
              "2  01DPGV8TGRAB993PF7Z3YWG2VR  ...             NaN\n",
              "3  01DSR8G3F7DBRTMP8THF97XSQ2  ...             NaN\n",
              "4  01DSR8G5GP519DEDCSKBMWQVK5  ...             NaN\n",
              "\n",
              "[5 rows x 9 columns]"
            ]
          },
          "metadata": {
            "tags": []
          },
          "execution_count": 13
        }
      ]
    },
    {
      "cell_type": "code",
      "metadata": {
        "id": "skB9EeV3giua",
        "colab_type": "code",
        "colab": {
          "base_uri": "https://localhost:8080/",
          "height": 35
        },
        "outputId": "1643277c-eded-4488-ada9-5cd3a69a2c27"
      },
      "source": [
        "train = df[df['attribute_name'].isna() == False]\n",
        "train.shape"
      ],
      "execution_count": 16,
      "outputs": [
        {
          "output_type": "execute_result",
          "data": {
            "text/plain": [
              "(18470, 9)"
            ]
          },
          "metadata": {
            "tags": []
          },
          "execution_count": 16
        }
      ]
    },
    {
      "cell_type": "code",
      "metadata": {
        "id": "IehYFEZ6gr8_",
        "colab_type": "code",
        "colab": {
          "base_uri": "https://localhost:8080/",
          "height": 35
        },
        "outputId": "059c7b4d-ec31-4669-bdb9-f6d4aec9056e"
      },
      "source": [
        "test = df[df['attribute_name'].isna() == True]\n",
        "test.shape"
      ],
      "execution_count": 17,
      "outputs": [
        {
          "output_type": "execute_result",
          "data": {
            "text/plain": [
              "(23903, 9)"
            ]
          },
          "metadata": {
            "tags": []
          },
          "execution_count": 17
        }
      ]
    },
    {
      "cell_type": "code",
      "metadata": {
        "id": "mH0kdK7oguqu",
        "colab_type": "code",
        "colab": {
          "base_uri": "https://localhost:8080/",
          "height": 53
        },
        "outputId": "3c53f338-1a7d-4a9b-c7ab-f69f0aacb102"
      },
      "source": [
        "%%time\n",
        "train.to_csv('/content/drive/My Drive/DSO 560/train.csv', index = False)"
      ],
      "execution_count": 18,
      "outputs": [
        {
          "output_type": "stream",
          "text": [
            "CPU times: user 253 ms, sys: 11.5 ms, total: 264 ms\n",
            "Wall time: 296 ms\n"
          ],
          "name": "stdout"
        }
      ]
    },
    {
      "cell_type": "code",
      "metadata": {
        "id": "GowKAKAphCNi",
        "colab_type": "code",
        "colab": {
          "base_uri": "https://localhost:8080/",
          "height": 53
        },
        "outputId": "abb72e60-0a9c-4d10-ee99-caf341ae3354"
      },
      "source": [
        "%%time\n",
        "test.to_csv('/content/drive/My Drive/DSO 560/test.csv', index = False)"
      ],
      "execution_count": 19,
      "outputs": [
        {
          "output_type": "stream",
          "text": [
            "CPU times: user 319 ms, sys: 16.3 ms, total: 335 ms\n",
            "Wall time: 375 ms\n"
          ],
          "name": "stdout"
        }
      ]
    }
  ]
}